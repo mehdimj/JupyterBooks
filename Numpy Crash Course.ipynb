{
 "cells": [
  {
   "cell_type": "markdown",
   "id": "747122da-8b54-4d30-9f7d-c1d9fdd5fec8",
   "metadata": {},
   "source": [
    "## 1. Create"
   ]
  },
  {
   "cell_type": "code",
   "execution_count": 1,
   "id": "d0accaa7-66aa-41c4-89ac-c6d9b00203fc",
   "metadata": {},
   "outputs": [],
   "source": [
    "import numpy as np"
   ]
  },
  {
   "cell_type": "code",
   "execution_count": 2,
   "id": "0cd75756-4cb3-4faa-8a0f-56ced02515d9",
   "metadata": {},
   "outputs": [],
   "source": [
    "data = np.random.rand(2,3,4)"
   ]
  },
  {
   "cell_type": "code",
   "execution_count": 3,
   "id": "bd0e078d-e934-4c55-a393-072fcfb7c070",
   "metadata": {},
   "outputs": [
    {
     "data": {
      "text/plain": [
       "array([[[0.48691009, 0.72516045, 0.85858775, 0.63189174],\n",
       "        [0.26870034, 0.51495958, 0.84673108, 0.52405427],\n",
       "        [0.03276913, 0.43658797, 0.57680717, 0.23317517]],\n",
       "\n",
       "       [[0.07097066, 0.48204246, 0.64944359, 0.61875226],\n",
       "        [0.43782973, 0.91585801, 0.03915616, 0.12415983],\n",
       "        [0.99777666, 0.25101337, 0.49544651, 0.89841225]]])"
      ]
     },
     "execution_count": 3,
     "metadata": {},
     "output_type": "execute_result"
    }
   ],
   "source": [
    "data"
   ]
  },
  {
   "cell_type": "code",
   "execution_count": 4,
   "id": "284f393a-0491-46f8-beef-d1919a85d255",
   "metadata": {},
   "outputs": [],
   "source": [
    "zeros = np.zeros((2,2,2))"
   ]
  },
  {
   "cell_type": "code",
   "execution_count": 5,
   "id": "6ee642a1-1471-4865-8633-4d9cc6aec920",
   "metadata": {},
   "outputs": [
    {
     "data": {
      "text/plain": [
       "array([[[0., 0.],\n",
       "        [0., 0.]],\n",
       "\n",
       "       [[0., 0.],\n",
       "        [0., 0.]]])"
      ]
     },
     "execution_count": 5,
     "metadata": {},
     "output_type": "execute_result"
    }
   ],
   "source": [
    "zeros"
   ]
  },
  {
   "cell_type": "code",
   "execution_count": 6,
   "id": "fd235b7c-56e6-48d9-8026-8bb4553af90f",
   "metadata": {},
   "outputs": [],
   "source": [
    "full = np.full((2,2,2),10)"
   ]
  },
  {
   "cell_type": "code",
   "execution_count": 7,
   "id": "b22099cb-9912-44fb-9568-094f59cb3857",
   "metadata": {},
   "outputs": [
    {
     "data": {
      "text/plain": [
       "array([[[10, 10],\n",
       "        [10, 10]],\n",
       "\n",
       "       [[10, 10],\n",
       "        [10, 10]]])"
      ]
     },
     "execution_count": 7,
     "metadata": {},
     "output_type": "execute_result"
    }
   ],
   "source": [
    "full"
   ]
  },
  {
   "cell_type": "code",
   "execution_count": 8,
   "id": "738e48cb-b086-4f9d-8da4-fe387e983683",
   "metadata": {},
   "outputs": [],
   "source": [
    "ones = np.ones((2,2,2))"
   ]
  },
  {
   "cell_type": "code",
   "execution_count": 9,
   "id": "301ed564-74ee-40de-a61e-ef34f17dca09",
   "metadata": {},
   "outputs": [
    {
     "data": {
      "text/plain": [
       "array([[[1., 1.],\n",
       "        [1., 1.]],\n",
       "\n",
       "       [[1., 1.],\n",
       "        [1., 1.]]])"
      ]
     },
     "execution_count": 9,
     "metadata": {},
     "output_type": "execute_result"
    }
   ],
   "source": [
    "ones"
   ]
  },
  {
   "cell_type": "code",
   "execution_count": 10,
   "id": "9e6bb233-77cb-4d13-b642-8abdf5cce03c",
   "metadata": {},
   "outputs": [],
   "source": [
    "myArray = np.array([[[1,2,3],[1,2,9]]])"
   ]
  },
  {
   "cell_type": "code",
   "execution_count": 11,
   "id": "6430a754-27eb-4316-9649-510934a2ccf2",
   "metadata": {},
   "outputs": [
    {
     "data": {
      "text/plain": [
       "array([[[1, 2, 3],\n",
       "        [1, 2, 9]]])"
      ]
     },
     "execution_count": 11,
     "metadata": {},
     "output_type": "execute_result"
    }
   ],
   "source": [
    "myArray"
   ]
  },
  {
   "cell_type": "code",
   "execution_count": 12,
   "id": "b9610ca3-07ba-4e85-9bb6-ec394216ac35",
   "metadata": {},
   "outputs": [
    {
     "data": {
      "text/plain": [
       "numpy.ndarray"
      ]
     },
     "execution_count": 12,
     "metadata": {},
     "output_type": "execute_result"
    }
   ],
   "source": [
    "type(myArray)"
   ]
  },
  {
   "cell_type": "markdown",
   "id": "008e7d58-683f-42a7-829d-e2817f02181b",
   "metadata": {},
   "source": [
    "## 2. Read"
   ]
  },
  {
   "cell_type": "code",
   "execution_count": 13,
   "id": "d951c886-d4e9-4cfe-a812-c5d4f231538b",
   "metadata": {},
   "outputs": [
    {
     "data": {
      "text/plain": [
       "dtype('float64')"
      ]
     },
     "execution_count": 13,
     "metadata": {},
     "output_type": "execute_result"
    }
   ],
   "source": [
    "## attributes\n",
    "shape = data.shape\n",
    "size = data.size\n",
    "types = data.dtype\n",
    "types"
   ]
  },
  {
   "cell_type": "code",
   "execution_count": 14,
   "id": "c78b322b-298c-4dfd-a4df-27348f8f9279",
   "metadata": {},
   "outputs": [],
   "source": [
    "## slicing\n",
    "arr = data[0]\n",
    "slicer = data[0:2]\n",
    "reverse = data[-1]\n",
    "singleEval = data[0][0][0]"
   ]
  },
  {
   "cell_type": "markdown",
   "id": "580f2144-8a90-49a3-a630-fab6a858a5fb",
   "metadata": {},
   "source": [
    "## 3.Update"
   ]
  },
  {
   "cell_type": "code",
   "execution_count": 15,
   "id": "a7756d96-e614-462c-b53e-619d2ce52fdb",
   "metadata": {},
   "outputs": [],
   "source": [
    "list1 = np.random.rand(10)\n",
    "list2 = np.random.rand(10)"
   ]
  },
  {
   "cell_type": "code",
   "execution_count": 16,
   "id": "e2ae5773-531a-4199-b29b-4c73eeb60eb1",
   "metadata": {},
   "outputs": [
    {
     "data": {
      "text/plain": [
       "array([0.93884636, 0.57234629, 0.46464761, 0.6846945 , 0.1389743 ,\n",
       "       0.35437754, 0.6555643 , 0.09565919, 0.35972836, 0.85500072])"
      ]
     },
     "execution_count": 16,
     "metadata": {},
     "output_type": "execute_result"
    }
   ],
   "source": [
    "list2"
   ]
  },
  {
   "cell_type": "code",
   "execution_count": 17,
   "id": "a69ebfdd-89d9-4b79-902d-cedad16006de",
   "metadata": {},
   "outputs": [],
   "source": [
    "# Basic Math"
   ]
  },
  {
   "cell_type": "code",
   "execution_count": 18,
   "id": "817eb4a9-2289-462c-93d7-50efa25e2ad3",
   "metadata": {},
   "outputs": [],
   "source": [
    "add = np.add(list1,list2)\n",
    "sub = np.subtract(list1,list2)\n",
    "mult = np.multiply(list1,list2)\n",
    "div = np.divide(list1,list2)\n",
    "dot = np.dot(list1,list2)"
   ]
  },
  {
   "cell_type": "code",
   "execution_count": 19,
   "id": "76bc3356-12a2-4fc5-8b0e-cba4f27bf30a",
   "metadata": {},
   "outputs": [
    {
     "data": {
      "text/plain": [
       "3.572920816764839"
      ]
     },
     "execution_count": 19,
     "metadata": {},
     "output_type": "execute_result"
    }
   ],
   "source": [
    "dot"
   ]
  },
  {
   "cell_type": "code",
   "execution_count": 20,
   "id": "6f956ec7-a780-4d04-abb9-ff2b605c1a86",
   "metadata": {},
   "outputs": [],
   "source": [
    "## Stat functions"
   ]
  },
  {
   "cell_type": "code",
   "execution_count": 23,
   "id": "d43ccdaa-d994-46e3-9645-0f0b4a4f6d85",
   "metadata": {},
   "outputs": [],
   "source": [
    "sqrt = np.sqrt(25)\n",
    "ab = np.abs(-2)\n",
    "power = np.power(2,7)\n",
    "log = np.log(25)\n",
    "exp = np.exp([2,3])\n",
    "mins = np.min(list1)\n",
    "maxs = np.max(list1)"
   ]
  },
  {
   "cell_type": "code",
   "execution_count": 24,
   "id": "b8dfabc9-98ab-4c14-ba7f-cb3c667b05de",
   "metadata": {},
   "outputs": [
    {
     "data": {
      "text/plain": [
       "array([[[0.48691009, 0.63189174, 0.72516045, 0.85858775],\n",
       "        [0.26870034, 0.51495958, 0.52405427, 0.84673108],\n",
       "        [0.03276913, 0.23317517, 0.43658797, 0.57680717]],\n",
       "\n",
       "       [[0.07097066, 0.48204246, 0.61875226, 0.64944359],\n",
       "        [0.03915616, 0.12415983, 0.43782973, 0.91585801],\n",
       "        [0.25101337, 0.49544651, 0.89841225, 0.99777666]]])"
      ]
     },
     "execution_count": 24,
     "metadata": {},
     "output_type": "execute_result"
    }
   ],
   "source": [
    "data.sort()\n",
    "data"
   ]
  },
  {
   "cell_type": "code",
   "execution_count": 25,
   "id": "dabf0124-6d25-4b0b-b1e7-07c0c8525c9e",
   "metadata": {},
   "outputs": [
    {
     "data": {
      "text/plain": [
       "(2, 2, 6)"
      ]
     },
     "execution_count": 25,
     "metadata": {},
     "output_type": "execute_result"
    }
   ],
   "source": [
    "data = data.reshape(2,2,-1)\n",
    "data.shape"
   ]
  },
  {
   "cell_type": "code",
   "execution_count": 26,
   "id": "83562e51-25ff-4753-9a2c-0812f5f4be9a",
   "metadata": {},
   "outputs": [
    {
     "name": "stdout",
     "output_type": "stream",
     "text": [
      "[0. 0. 0. 0. 0. 0. 0. 0.]\n",
      "[0. 0. 0. 0. 0. 0. 0. 0. 3. 4.]\n"
     ]
    }
   ],
   "source": [
    "zeroes = np.zeros(8)\n",
    "print(zeroes)\n",
    "zeroes = np.append(zeroes, [3,4])\n",
    "print(zeroes)"
   ]
  },
  {
   "cell_type": "code",
   "execution_count": 33,
   "id": "ffffb943-b59e-496d-8c2e-4f53c25ad8d5",
   "metadata": {},
   "outputs": [
    {
     "data": {
      "text/plain": [
       "array([0., 0., 9., 0., 0., 0., 0., 0., 0., 3., 4.])"
      ]
     },
     "execution_count": 33,
     "metadata": {},
     "output_type": "execute_result"
    }
   ],
   "source": [
    "np.insert(zeroes, 2, 9)"
   ]
  },
  {
   "cell_type": "markdown",
   "id": "2f95648e-f7d9-4e8b-b8aa-a6370865cad7",
   "metadata": {},
   "source": [
    "## 4. Delete"
   ]
  },
  {
   "cell_type": "code",
   "execution_count": 29,
   "id": "2478971b-ae0f-4351-b177-2d27692a6f4e",
   "metadata": {},
   "outputs": [
    {
     "data": {
      "text/plain": [
       "array([[[0.52405427, 0.84673108, 0.03276913, 0.23317517, 0.43658797,\n",
       "         0.57680717]],\n",
       "\n",
       "       [[0.43782973, 0.91585801, 0.25101337, 0.49544651, 0.89841225,\n",
       "         0.99777666]]])"
      ]
     },
     "execution_count": 29,
     "metadata": {},
     "output_type": "execute_result"
    }
   ],
   "source": [
    "np.delete(data, 0, axis=1)"
   ]
  },
  {
   "cell_type": "code",
   "execution_count": 30,
   "id": "cee7afdc-9539-4cfb-8991-6f2bc5920780",
   "metadata": {},
   "outputs": [],
   "source": [
    "np.save(\"my array\", data)"
   ]
  },
  {
   "cell_type": "code",
   "execution_count": 31,
   "id": "c50a919c-8097-425e-8291-7c1f2813a8e3",
   "metadata": {},
   "outputs": [],
   "source": [
    "test = np.load(\"my array.npy\")"
   ]
  },
  {
   "cell_type": "raw",
   "id": "73dbef7e-7510-40dc-a688-4c9add491631",
   "metadata": {},
   "source": [
    "print(test)"
   ]
  }
 ],
 "metadata": {
  "kernelspec": {
   "display_name": "Python 3 (ipykernel)",
   "language": "python",
   "name": "python3"
  },
  "language_info": {
   "codemirror_mode": {
    "name": "ipython",
    "version": 3
   },
   "file_extension": ".py",
   "mimetype": "text/x-python",
   "name": "python",
   "nbconvert_exporter": "python",
   "pygments_lexer": "ipython3",
   "version": "3.12.2"
  }
 },
 "nbformat": 4,
 "nbformat_minor": 5
}
